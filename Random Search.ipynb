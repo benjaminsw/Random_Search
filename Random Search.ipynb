{
 "cells": [
  {
   "cell_type": "markdown",
   "metadata": {},
   "source": [
    "#Random Search"
   ]
  },
  {
   "cell_type": "code",
   "execution_count": 11,
   "metadata": {
    "collapsed": false
   },
   "outputs": [
    {
     "data": {
      "text/html": [
       "<div>\n",
       "<table border=\"1\" class=\"dataframe\">\n",
       "  <thead>\n",
       "    <tr style=\"text-align: right;\">\n",
       "      <th></th>\n",
       "      <th>no.</th>\n",
       "      <th>weight</th>\n",
       "      <th>value</th>\n",
       "    </tr>\n",
       "  </thead>\n",
       "  <tbody>\n",
       "    <tr>\n",
       "      <th>0</th>\n",
       "      <td>1</td>\n",
       "      <td>835</td>\n",
       "      <td>735</td>\n",
       "    </tr>\n",
       "    <tr>\n",
       "      <th>1</th>\n",
       "      <td>2</td>\n",
       "      <td>1670</td>\n",
       "      <td>1470</td>\n",
       "    </tr>\n",
       "    <tr>\n",
       "      <th>2</th>\n",
       "      <td>3</td>\n",
       "      <td>3340</td>\n",
       "      <td>2940</td>\n",
       "    </tr>\n",
       "    <tr>\n",
       "      <th>3</th>\n",
       "      <td>4</td>\n",
       "      <td>1087</td>\n",
       "      <td>987</td>\n",
       "    </tr>\n",
       "    <tr>\n",
       "      <th>4</th>\n",
       "      <td>5</td>\n",
       "      <td>1087</td>\n",
       "      <td>987</td>\n",
       "    </tr>\n",
       "  </tbody>\n",
       "</table>\n",
       "</div>"
      ],
      "text/plain": [
       "   no.  weight  value\n",
       "0    1     835    735\n",
       "1    2    1670   1470\n",
       "2    3    3340   2940\n",
       "3    4    1087    987\n",
       "4    5    1087    987"
      ]
     },
     "execution_count": 11,
     "metadata": {},
     "output_type": "execute_result"
    }
   ],
   "source": [
    "import urllib2  # the lib that handles the url stuff\n",
    "import numpy as np\n",
    "import pandas as pd\n",
    "import random\n",
    "\n",
    "input_data = []\n",
    "url = \"http://www.cs.stir.ac.uk/~goc/source/hard200.txt\"\n",
    "data = urllib2.urlopen(url) # it's a file like object and works just like a file\n",
    "for line in data: # files are iterable\n",
    "    input_data.append(map(int,line.split()))\n",
    "\n",
    "total_items = input_data.pop(0)[0] #total number of items in the item list\n",
    "max_weight = input_data.pop()[0]  #max capacity\n",
    "df = pd.DataFrame(input_data, columns=['no.', 'weight', 'value'])\n",
    "df.head()"
   ]
  },
  {
   "cell_type": "code",
   "execution_count": 12,
   "metadata": {
    "collapsed": true
   },
   "outputs": [],
   "source": [
    "#a function to generate a binary representaion of n in r bits \n",
    "#e.g. binrep(2,3) = '010'\n",
    "def binrep(n,r):\n",
    "    return \"{0:0{1}b}\".format(n, r)"
   ]
  },
  {
   "cell_type": "code",
   "execution_count": 36,
   "metadata": {
    "collapsed": false
   },
   "outputs": [
    {
     "name": "stdout",
     "output_type": "stream",
     "text": [
      "total values for  225 randoms are  [92507, 95846, 92844, 92515, 93850, 77785]\n",
      "best value is  95846\n"
     ]
    }
   ],
   "source": [
    "select_random = 50 #declare number of inputs to generate\n",
    "total_values = [] #keep total velue\n",
    "selected_items = []\n",
    "for i in xrange(0,select_random):\n",
    "    rand_items = random.randint(0,2**total_items-1)\n",
    "    selected_items = binrep(rand_items, total_items)\n",
    "    selected_items = np.array(map(int,selected_items))\n",
    "    weights = np.array(df[\"weight\"])\n",
    "    values = np.array(df[\"value\"])\n",
    "    if np.dot(weights,selected_items)<=max_weight:\n",
    "        total_values.append(np.dot(values,selected_items))\n",
    "print \"total values for \", select_random,\"randoms are \",total_values\n",
    "print \"best value is \", max(total_values)\n",
    "    \n",
    "    "
   ]
  },
  {
   "cell_type": "code",
   "execution_count": null,
   "metadata": {
    "collapsed": true
   },
   "outputs": [],
   "source": []
  }
 ],
 "metadata": {
  "kernelspec": {
   "display_name": "Python 2",
   "language": "python",
   "name": "python2"
  },
  "language_info": {
   "codemirror_mode": {
    "name": "ipython",
    "version": 2
   },
   "file_extension": ".py",
   "mimetype": "text/x-python",
   "name": "python",
   "nbconvert_exporter": "python",
   "pygments_lexer": "ipython2",
   "version": "2.7.10"
  }
 },
 "nbformat": 4,
 "nbformat_minor": 0
}
